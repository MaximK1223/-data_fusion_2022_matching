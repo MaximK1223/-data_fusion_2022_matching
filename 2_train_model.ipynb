{
  "cells": [
    {
      "cell_type": "code",
      "source": [
        "!wget https://storage.yandexcloud.net/datasouls-ods/materials/acfacf11/train_matching.csv"
      ],
      "metadata": {
        "colab": {
          "base_uri": "https://localhost:8080/"
        },
        "id": "ayY9YzU5wYtr",
        "outputId": "f59d0570-77e8-459e-c3f9-0d718116e1b1"
      },
      "execution_count": 1,
      "outputs": [
        {
          "output_type": "stream",
          "name": "stdout",
          "text": [
            "--2022-05-21 16:46:23--  https://storage.yandexcloud.net/datasouls-ods/materials/acfacf11/train_matching.csv\n",
            "Resolving storage.yandexcloud.net (storage.yandexcloud.net)... 213.180.193.243, 2a02:6b8::1d9\n",
            "Connecting to storage.yandexcloud.net (storage.yandexcloud.net)|213.180.193.243|:443... connected.\n",
            "HTTP request sent, awaiting response... 200 OK\n",
            "Length: 1070145 (1.0M) [text/csv]\n",
            "Saving to: ‘train_matching.csv’\n",
            "\n",
            "train_matching.csv  100%[===================>]   1.02M  1.05MB/s    in 1.0s    \n",
            "\n",
            "2022-05-21 16:46:25 (1.05 MB/s) - ‘train_matching.csv’ saved [1070145/1070145]\n",
            "\n"
          ]
        }
      ]
    },
    {
      "cell_type": "code",
      "execution_count": 2,
      "metadata": {
        "colab": {
          "base_uri": "https://localhost:8080/"
        },
        "id": "MRZmei2NU0iX",
        "outputId": "abe51c5d-0a53-4da4-beaf-71fcf929b0ed"
      },
      "outputs": [
        {
          "output_type": "stream",
          "name": "stdout",
          "text": [
            "Collecting catboost\n",
            "  Downloading catboost-1.0.6-cp37-none-manylinux1_x86_64.whl (76.6 MB)\n",
            "\u001b[K     |████████████████████████████████| 76.6 MB 87 kB/s \n",
            "\u001b[?25hRequirement already satisfied: graphviz in /usr/local/lib/python3.7/dist-packages (from catboost) (0.10.1)\n",
            "Requirement already satisfied: scipy in /usr/local/lib/python3.7/dist-packages (from catboost) (1.4.1)\n",
            "Requirement already satisfied: plotly in /usr/local/lib/python3.7/dist-packages (from catboost) (5.5.0)\n",
            "Requirement already satisfied: matplotlib in /usr/local/lib/python3.7/dist-packages (from catboost) (3.2.2)\n",
            "Requirement already satisfied: numpy>=1.16.0 in /usr/local/lib/python3.7/dist-packages (from catboost) (1.21.6)\n",
            "Requirement already satisfied: pandas>=0.24.0 in /usr/local/lib/python3.7/dist-packages (from catboost) (1.3.5)\n",
            "Requirement already satisfied: six in /usr/local/lib/python3.7/dist-packages (from catboost) (1.15.0)\n",
            "Requirement already satisfied: python-dateutil>=2.7.3 in /usr/local/lib/python3.7/dist-packages (from pandas>=0.24.0->catboost) (2.8.2)\n",
            "Requirement already satisfied: pytz>=2017.3 in /usr/local/lib/python3.7/dist-packages (from pandas>=0.24.0->catboost) (2022.1)\n",
            "Requirement already satisfied: cycler>=0.10 in /usr/local/lib/python3.7/dist-packages (from matplotlib->catboost) (0.11.0)\n",
            "Requirement already satisfied: kiwisolver>=1.0.1 in /usr/local/lib/python3.7/dist-packages (from matplotlib->catboost) (1.4.2)\n",
            "Requirement already satisfied: pyparsing!=2.0.4,!=2.1.2,!=2.1.6,>=2.0.1 in /usr/local/lib/python3.7/dist-packages (from matplotlib->catboost) (3.0.9)\n",
            "Requirement already satisfied: typing-extensions in /usr/local/lib/python3.7/dist-packages (from kiwisolver>=1.0.1->matplotlib->catboost) (4.2.0)\n",
            "Requirement already satisfied: tenacity>=6.2.0 in /usr/local/lib/python3.7/dist-packages (from plotly->catboost) (8.0.1)\n",
            "Installing collected packages: catboost\n",
            "Successfully installed catboost-1.0.6\n"
          ]
        }
      ],
      "source": [
        "!pip install catboost"
      ]
    },
    {
      "cell_type": "code",
      "execution_count": 3,
      "metadata": {
        "id": "FCEo3vFuQLDB"
      },
      "outputs": [],
      "source": [
        "import pandas as pd\n",
        "import numpy as np\n",
        "from catboost import CatBoostClassifier, Pool\n",
        "import pickle\n",
        "from tqdm import tqdm"
      ]
    },
    {
      "cell_type": "code",
      "source": [
        "from google.colab import drive\n",
        "drive.mount('/content/drive')"
      ],
      "metadata": {
        "colab": {
          "base_uri": "https://localhost:8080/"
        },
        "id": "xwf0zcuyjwIF",
        "outputId": "885482ed-10ae-488f-bf3e-146ceafafe0b"
      },
      "execution_count": 4,
      "outputs": [
        {
          "output_type": "stream",
          "name": "stdout",
          "text": [
            "Mounted at /content/drive\n"
          ]
        }
      ]
    },
    {
      "cell_type": "code",
      "source": [
        "train_matching = pd.read_csv('./train_matching.csv')"
      ],
      "metadata": {
        "id": "8VAkBkGY6i7a"
      },
      "execution_count": 5,
      "outputs": []
    },
    {
      "cell_type": "code",
      "source": [
        "def dtypeList(data_frame):\n",
        "    dtype_list = list()\n",
        "    for x in data_frame.dtypes.tolist():\n",
        "        if x=='int64':\n",
        "            dtype_list.append('int16')\n",
        "        elif(x=='float64'):\n",
        "            dtype_list.append('float32')\n",
        "        else:\n",
        "            dtype_list.append('object')\n",
        "            \n",
        "    return dict(zip(data_frame.columns.tolist(),dtype_list))"
      ],
      "metadata": {
        "id": "2tsVnQhguLXW"
      },
      "execution_count": 6,
      "outputs": []
    },
    {
      "cell_type": "code",
      "execution_count": 7,
      "metadata": {
        "id": "BOxU31dURiRq"
      },
      "outputs": [],
      "source": [
        "train = pd.read_csv('/content/drive/MyDrive/data/train.csv', nrows=1).fillna(0)\n",
        "test = pd.read_csv('/content/drive/MyDrive/data/test.csv', nrows=1).fillna(0)\n",
        "\n",
        "train = pd.read_csv('/content/drive/MyDrive/data/train.csv', dtype=dtypeList(train)).fillna(0)\n",
        "test = pd.read_csv('/content/drive/MyDrive/data/test.csv', dtype=dtypeList(test)).fillna(0)"
      ]
    },
    {
      "cell_type": "code",
      "execution_count": 8,
      "metadata": {
        "id": "VF7tCGRhQLDF"
      },
      "outputs": [],
      "source": [
        "train_data = Pool(train[train.columns[3:]],label=train['target'], has_header=True)\n",
        "eval_data = Pool(test[test.columns[3:]], label=test['target'], has_header=True)"
      ]
    },
    {
      "cell_type": "code",
      "execution_count": 9,
      "metadata": {
        "id": "zQvFGh28QLDG"
      },
      "outputs": [],
      "source": [
        "full_list_of_features = list(train.columns[3:])"
      ]
    },
    {
      "cell_type": "code",
      "execution_count": 14,
      "metadata": {
        "id": "r7tQNXR9QLDH"
      },
      "outputs": [],
      "source": [
        "model = CatBoostClassifier(\n",
        "        iterations=6000, depth=6, learning_rate=0.01, loss_function='CrossEntropy')"
      ]
    },
    {
      "cell_type": "code",
      "execution_count": 15,
      "metadata": {
        "colab": {
          "base_uri": "https://localhost:8080/"
        },
        "id": "MIpTaUkRQLDH",
        "outputId": "ead71bb6-3e17-4ea3-cdbb-abedb5849a92"
      },
      "outputs": [
        {
          "output_type": "stream",
          "name": "stdout",
          "text": [
            "0:\tlearn: 0.6828713\ttest: 0.6829686\tbest: 0.6829686 (0)\ttotal: 549ms\tremaining: 54m 55s\n",
            "300:\tlearn: 0.2721023\ttest: 0.2737823\tbest: 0.2737823 (300)\ttotal: 3m\tremaining: 56m 54s\n",
            "600:\tlearn: 0.2665357\ttest: 0.2690059\tbest: 0.2690052 (599)\ttotal: 6m 16s\tremaining: 56m 19s\n",
            "900:\tlearn: 0.2636165\ttest: 0.2669771\tbest: 0.2669759 (897)\ttotal: 9m 19s\tremaining: 52m 47s\n",
            "1200:\tlearn: 0.2606767\ttest: 0.2651237\tbest: 0.2651237 (1200)\ttotal: 12m 29s\tremaining: 49m 54s\n",
            "1500:\tlearn: 0.2562006\ttest: 0.2619916\tbest: 0.2619916 (1500)\ttotal: 16m 9s\tremaining: 48m 27s\n",
            "1800:\tlearn: 0.2527564\ttest: 0.2596882\tbest: 0.2596882 (1800)\ttotal: 19m 36s\tremaining: 45m 43s\n",
            "2100:\tlearn: 0.2499928\ttest: 0.2580862\tbest: 0.2580862 (2100)\ttotal: 22m 54s\tremaining: 42m 31s\n",
            "2400:\tlearn: 0.2476647\ttest: 0.2569350\tbest: 0.2569350 (2400)\ttotal: 26m 8s\tremaining: 39m 11s\n",
            "2700:\tlearn: 0.2456184\ttest: 0.2559932\tbest: 0.2559928 (2699)\ttotal: 29m 15s\tremaining: 35m 44s\n",
            "3000:\tlearn: 0.2437803\ttest: 0.2551965\tbest: 0.2551965 (3000)\ttotal: 32m 20s\tremaining: 32m 18s\n",
            "3300:\tlearn: 0.2419585\ttest: 0.2544656\tbest: 0.2544656 (3300)\ttotal: 35m 26s\tremaining: 28m 59s\n",
            "3600:\tlearn: 0.2402449\ttest: 0.2537703\tbest: 0.2537703 (3600)\ttotal: 38m 33s\tremaining: 25m 41s\n",
            "3900:\tlearn: 0.2387706\ttest: 0.2532397\tbest: 0.2532397 (3900)\ttotal: 41m 34s\tremaining: 22m 22s\n",
            "4200:\tlearn: 0.2373459\ttest: 0.2527525\tbest: 0.2527516 (4199)\ttotal: 44m 34s\tremaining: 19m 5s\n",
            "4500:\tlearn: 0.2358976\ttest: 0.2522501\tbest: 0.2522501 (4500)\ttotal: 47m 39s\tremaining: 15m 52s\n",
            "Stopped by overfitting detector  (10 iterations wait)\n",
            "\n",
            "bestTest = 0.2522182163\n",
            "bestIteration = 4536\n",
            "\n",
            "Shrink model to first 4537 iterations.\n"
          ]
        }
      ],
      "source": [
        "m = model.fit(train_data, eval_set=eval_data, verbose=300, early_stopping_rounds=10)"
      ]
    },
    {
      "cell_type": "code",
      "execution_count": 16,
      "metadata": {
        "id": "ZexofJOJQLDI"
      },
      "outputs": [],
      "source": [
        "model.save_model('model.cbm')"
      ]
    },
    {
      "cell_type": "code",
      "execution_count": 17,
      "metadata": {
        "id": "niAqOj56QLDI"
      },
      "outputs": [],
      "source": [
        "with open(\"full_list_of_features\", \"wb\") as fp:   #Pickling\n",
        "    pickle.dump(full_list_of_features, fp)"
      ]
    },
    {
      "cell_type": "code",
      "source": [
        ""
      ],
      "metadata": {
        "id": "QuPMYNeDLR2U"
      },
      "execution_count": null,
      "outputs": []
    }
  ],
  "metadata": {
    "accelerator": "GPU",
    "colab": {
      "collapsed_sections": [],
      "name": "2_train_model.ipynb",
      "provenance": []
    },
    "kernelspec": {
      "display_name": "Python 3 (ipykernel)",
      "language": "python",
      "name": "python3"
    },
    "language_info": {
      "codemirror_mode": {
        "name": "ipython",
        "version": 3
      },
      "file_extension": ".py",
      "mimetype": "text/x-python",
      "name": "python",
      "nbconvert_exporter": "python",
      "pygments_lexer": "ipython3",
      "version": "3.9.1"
    }
  },
  "nbformat": 4,
  "nbformat_minor": 0
}